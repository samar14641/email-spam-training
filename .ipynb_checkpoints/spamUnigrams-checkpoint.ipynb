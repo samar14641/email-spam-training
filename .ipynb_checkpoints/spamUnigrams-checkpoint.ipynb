{
 "cells": [
  {
   "cell_type": "code",
   "execution_count": 38,
   "metadata": {},
   "outputs": [],
   "source": [
    "import numpy as np\n",
    "import os\n",
    "import pandas as pd"
   ]
  },
  {
   "cell_type": "code",
   "execution_count": 3,
   "metadata": {},
   "outputs": [
    {
     "data": {
      "text/html": [
       "<div>\n",
       "<style scoped>\n",
       "    .dataframe tbody tr th:only-of-type {\n",
       "        vertical-align: middle;\n",
       "    }\n",
       "\n",
       "    .dataframe tbody tr th {\n",
       "        vertical-align: top;\n",
       "    }\n",
       "\n",
       "    .dataframe thead th {\n",
       "        text-align: right;\n",
       "    }\n",
       "</style>\n",
       "<table border=\"1\" class=\"dataframe\">\n",
       "  <thead>\n",
       "    <tr style=\"text-align: right;\">\n",
       "      <th></th>\n",
       "      <th>clearanc</th>\n",
       "      <th>meet</th>\n",
       "      <th>monei</th>\n",
       "      <th>price</th>\n",
       "      <th>trial</th>\n",
       "      <th>instant</th>\n",
       "      <th>viru</th>\n",
       "      <th>bui</th>\n",
       "      <th>chanc</th>\n",
       "      <th>home</th>\n",
       "      <th>...</th>\n",
       "      <th>free</th>\n",
       "      <th>prize</th>\n",
       "      <th>order</th>\n",
       "      <th>incred</th>\n",
       "      <th>lower</th>\n",
       "      <th>rate</th>\n",
       "      <th>hidden</th>\n",
       "      <th>deal</th>\n",
       "      <th>interest</th>\n",
       "      <th>label</th>\n",
       "    </tr>\n",
       "  </thead>\n",
       "  <tbody>\n",
       "    <tr>\n",
       "      <th>inmail.1</th>\n",
       "      <td>0</td>\n",
       "      <td>0</td>\n",
       "      <td>0</td>\n",
       "      <td>0</td>\n",
       "      <td>0</td>\n",
       "      <td>0</td>\n",
       "      <td>0</td>\n",
       "      <td>0</td>\n",
       "      <td>0</td>\n",
       "      <td>0</td>\n",
       "      <td>...</td>\n",
       "      <td>0</td>\n",
       "      <td>0</td>\n",
       "      <td>0</td>\n",
       "      <td>0</td>\n",
       "      <td>0</td>\n",
       "      <td>0</td>\n",
       "      <td>0</td>\n",
       "      <td>0</td>\n",
       "      <td>0</td>\n",
       "      <td>1</td>\n",
       "    </tr>\n",
       "    <tr>\n",
       "      <th>inmail.2</th>\n",
       "      <td>0</td>\n",
       "      <td>0</td>\n",
       "      <td>0</td>\n",
       "      <td>0</td>\n",
       "      <td>0</td>\n",
       "      <td>0</td>\n",
       "      <td>0</td>\n",
       "      <td>0</td>\n",
       "      <td>0</td>\n",
       "      <td>0</td>\n",
       "      <td>...</td>\n",
       "      <td>0</td>\n",
       "      <td>0</td>\n",
       "      <td>0</td>\n",
       "      <td>0</td>\n",
       "      <td>0</td>\n",
       "      <td>0</td>\n",
       "      <td>0</td>\n",
       "      <td>0</td>\n",
       "      <td>0</td>\n",
       "      <td>0</td>\n",
       "    </tr>\n",
       "    <tr>\n",
       "      <th>inmail.3</th>\n",
       "      <td>0</td>\n",
       "      <td>0</td>\n",
       "      <td>0</td>\n",
       "      <td>0</td>\n",
       "      <td>0</td>\n",
       "      <td>0</td>\n",
       "      <td>0</td>\n",
       "      <td>0</td>\n",
       "      <td>0</td>\n",
       "      <td>0</td>\n",
       "      <td>...</td>\n",
       "      <td>0</td>\n",
       "      <td>0</td>\n",
       "      <td>0</td>\n",
       "      <td>0</td>\n",
       "      <td>0</td>\n",
       "      <td>0</td>\n",
       "      <td>0</td>\n",
       "      <td>0</td>\n",
       "      <td>0</td>\n",
       "      <td>1</td>\n",
       "    </tr>\n",
       "    <tr>\n",
       "      <th>inmail.4</th>\n",
       "      <td>0</td>\n",
       "      <td>0</td>\n",
       "      <td>0</td>\n",
       "      <td>0</td>\n",
       "      <td>0</td>\n",
       "      <td>0</td>\n",
       "      <td>0</td>\n",
       "      <td>0</td>\n",
       "      <td>0</td>\n",
       "      <td>0</td>\n",
       "      <td>...</td>\n",
       "      <td>0</td>\n",
       "      <td>0</td>\n",
       "      <td>0</td>\n",
       "      <td>0</td>\n",
       "      <td>0</td>\n",
       "      <td>0</td>\n",
       "      <td>0</td>\n",
       "      <td>0</td>\n",
       "      <td>0</td>\n",
       "      <td>1</td>\n",
       "    </tr>\n",
       "    <tr>\n",
       "      <th>inmail.5</th>\n",
       "      <td>0</td>\n",
       "      <td>0</td>\n",
       "      <td>0</td>\n",
       "      <td>1</td>\n",
       "      <td>0</td>\n",
       "      <td>0</td>\n",
       "      <td>0</td>\n",
       "      <td>0</td>\n",
       "      <td>0</td>\n",
       "      <td>2</td>\n",
       "      <td>...</td>\n",
       "      <td>0</td>\n",
       "      <td>0</td>\n",
       "      <td>0</td>\n",
       "      <td>0</td>\n",
       "      <td>2</td>\n",
       "      <td>0</td>\n",
       "      <td>0</td>\n",
       "      <td>0</td>\n",
       "      <td>0</td>\n",
       "      <td>1</td>\n",
       "    </tr>\n",
       "  </tbody>\n",
       "</table>\n",
       "<p>5 rows × 64 columns</p>\n",
       "</div>"
      ],
      "text/plain": [
       "          clearanc  meet  monei  price  trial  instant  viru  bui  chanc  \\\n",
       "inmail.1         0     0      0      0      0        0     0    0      0   \n",
       "inmail.2         0     0      0      0      0        0     0    0      0   \n",
       "inmail.3         0     0      0      0      0        0     0    0      0   \n",
       "inmail.4         0     0      0      0      0        0     0    0      0   \n",
       "inmail.5         0     0      0      1      0        0     0    0      0   \n",
       "\n",
       "          home  ...  free  prize  order  incred  lower  rate  hidden  deal  \\\n",
       "inmail.1     0  ...     0      0      0       0      0     0       0     0   \n",
       "inmail.2     0  ...     0      0      0       0      0     0       0     0   \n",
       "inmail.3     0  ...     0      0      0       0      0     0       0     0   \n",
       "inmail.4     0  ...     0      0      0       0      0     0       0     0   \n",
       "inmail.5     2  ...     0      0      0       0      2     0       0     0   \n",
       "\n",
       "          interest  label  \n",
       "inmail.1         0      1  \n",
       "inmail.2         0      0  \n",
       "inmail.3         0      1  \n",
       "inmail.4         0      1  \n",
       "inmail.5         0      1  \n",
       "\n",
       "[5 rows x 64 columns]"
      ]
     },
     "execution_count": 3,
     "metadata": {},
     "output_type": "execute_result"
    }
   ],
   "source": [
    "df = pd.read_pickle(os.getcwd() + '\\\\Data\\\\features.pkl')  # 1: spam, 0: ham\n",
    "df.head()  "
   ]
  },
  {
   "cell_type": "code",
   "execution_count": 5,
   "metadata": {},
   "outputs": [
    {
     "data": {
      "text/plain": [
       "(75419, 64)"
      ]
     },
     "execution_count": 5,
     "metadata": {},
     "output_type": "execute_result"
    }
   ],
   "source": [
    "df.shape  # 63 features + label"
   ]
  },
  {
   "cell_type": "code",
   "execution_count": 9,
   "metadata": {},
   "outputs": [
    {
     "data": {
      "text/plain": [
       "1    66.560151\n",
       "0    33.439849\n",
       "Name: label, dtype: float64"
      ]
     },
     "execution_count": 9,
     "metadata": {},
     "output_type": "execute_result"
    }
   ],
   "source": [
    "# get proportions of labels\n",
    "df['label'].value_counts() * 100 / df.shape[0]"
   ]
  },
  {
   "cell_type": "code",
   "execution_count": 69,
   "metadata": {},
   "outputs": [],
   "source": [
    "from sklearn import feature_selection, linear_model, metrics, model_selection, naive_bayes, tree"
   ]
  },
  {
   "cell_type": "code",
   "execution_count": 15,
   "metadata": {},
   "outputs": [],
   "source": [
    "# create 80-20 train-test splits\n",
    "trainX, testX, trainY, testY = model_selection.train_test_split(df.iloc[:, : -1], df.iloc[:, -1], test_size = 0.2, random_state = 1)"
   ]
  },
  {
   "cell_type": "code",
   "execution_count": 29,
   "metadata": {},
   "outputs": [
    {
     "data": {
      "text/plain": [
       "1    66.563355\n",
       "0    33.436645\n",
       "Name: label, dtype: float64"
      ]
     },
     "execution_count": 29,
     "metadata": {},
     "output_type": "execute_result"
    }
   ],
   "source": [
    "trainY.value_counts() * 100 / trainY.shape[0]  # check proportions"
   ]
  },
  {
   "cell_type": "code",
   "execution_count": 28,
   "metadata": {},
   "outputs": [
    {
     "data": {
      "text/plain": [
       "1    66.547335\n",
       "0    33.452665\n",
       "Name: label, dtype: float64"
      ]
     },
     "execution_count": 28,
     "metadata": {},
     "output_type": "execute_result"
    }
   ],
   "source": [
    "testY.value_counts() * 100 / testY.shape[0]  # check proportions"
   ]
  },
  {
   "cell_type": "code",
   "execution_count": 46,
   "metadata": {},
   "outputs": [],
   "source": [
    "dt = tree.DecisionTreeClassifier()\n",
    "dt.fit(trainX, trainY)\n",
    "\n",
    "trainPred = dt.predict(trainX)\n",
    "testPred = dt.predict(testX)"
   ]
  },
  {
   "cell_type": "code",
   "execution_count": 30,
   "metadata": {},
   "outputs": [
    {
     "name": "stdout",
     "output_type": "stream",
     "text": [
      "Train acc: 0.8229220187287644\n",
      "Test acc: 0.7851365685494563\n"
     ]
    }
   ],
   "source": [
    "trainAcc = metrics.accuracy_score(trainY, trainPred)\n",
    "testAcc = metrics.accuracy_score(testY, testPred)\n",
    "\n",
    "print('Train acc:', trainAcc)\n",
    "print('Test acc:', testAcc)"
   ]
  },
  {
   "cell_type": "code",
   "execution_count": 21,
   "metadata": {},
   "outputs": [
    {
     "name": "stdout",
     "output_type": "stream",
     "text": [
      "AuROC test: 0.7081254727872373\n"
     ]
    }
   ],
   "source": [
    "auroc = metrics.roc_auc_score(testY, testPred)\n",
    "print('AuROC test:', auroc)"
   ]
  },
  {
   "cell_type": "code",
   "execution_count": 49,
   "metadata": {},
   "outputs": [],
   "source": [
    "dt2 = tree.DecisionTreeClassifier()\n",
    "rfe = feature_selection.RFE(dt2, 50, step = 2)\n",
    "rfe = rfe.fit(trainX, trainY)"
   ]
  },
  {
   "cell_type": "code",
   "execution_count": 51,
   "metadata": {},
   "outputs": [
    {
     "data": {
      "text/plain": [
       "50"
      ]
     },
     "execution_count": 51,
     "metadata": {},
     "output_type": "execute_result"
    }
   ],
   "source": [
    "np.sum(rfe.support_)"
   ]
  },
  {
   "cell_type": "code",
   "execution_count": 53,
   "metadata": {},
   "outputs": [
    {
     "name": "stdout",
     "output_type": "stream",
     "text": [
      "(60335, 50)\n",
      "(15084, 50)\n"
     ]
    }
   ],
   "source": [
    "trainX_3 = trainX[trainX.columns[rfe.support_]]\n",
    "testX_3 = testX[testX.columns[rfe.support_]]\n",
    "print(trainX_3.shape)\n",
    "print(testX_3.shape)"
   ]
  },
  {
   "cell_type": "code",
   "execution_count": 54,
   "metadata": {},
   "outputs": [],
   "source": [
    "dt3 = tree.DecisionTreeClassifier()\n",
    "dt3.fit(trainX_3, trainY)\n",
    "\n",
    "trainPred = dt3.predict(trainX_3)\n",
    "testPred = dt3.predict(testX_3)"
   ]
  },
  {
   "cell_type": "code",
   "execution_count": 55,
   "metadata": {},
   "outputs": [
    {
     "name": "stdout",
     "output_type": "stream",
     "text": [
      "Train acc: 0.8207673821165161\n",
      "Test acc: 0.785666931848316\n"
     ]
    }
   ],
   "source": [
    "trainAcc = metrics.accuracy_score(trainY, trainPred)\n",
    "testAcc = metrics.accuracy_score(testY, testPred)\n",
    "\n",
    "print('Train acc:', trainAcc)\n",
    "print('Test acc:', testAcc)"
   ]
  },
  {
   "cell_type": "code",
   "execution_count": 56,
   "metadata": {},
   "outputs": [
    {
     "name": "stdout",
     "output_type": "stream",
     "text": [
      "AuROC test: 0.706651407173549\n"
     ]
    }
   ],
   "source": [
    "auroc = metrics.roc_auc_score(testY, testPred)\n",
    "print('AuROC test:', auroc)"
   ]
  },
  {
   "cell_type": "code",
   "execution_count": 59,
   "metadata": {},
   "outputs": [
    {
     "data": {
      "text/plain": [
       "50"
      ]
     },
     "execution_count": 59,
     "metadata": {},
     "output_type": "execute_result"
    }
   ],
   "source": [
    "lm = linear_model.LinearRegression()\n",
    "rfe = feature_selection.RFE(lm, 50, step = 2)\n",
    "rfe = rfe.fit(trainX, trainY)\n",
    "np.sum(rfe.support_)"
   ]
  },
  {
   "cell_type": "code",
   "execution_count": 60,
   "metadata": {},
   "outputs": [
    {
     "name": "stdout",
     "output_type": "stream",
     "text": [
      "(60335, 50)\n",
      "(15084, 50)\n"
     ]
    }
   ],
   "source": [
    "trainX_2 = trainX[trainX.columns[rfe.support_]]\n",
    "testX_2 = testX[testX.columns[rfe.support_]]\n",
    "print(trainX_2.shape)\n",
    "print(testX_2.shape)"
   ]
  },
  {
   "cell_type": "code",
   "execution_count": 67,
   "metadata": {},
   "outputs": [],
   "source": [
    "lm2 = linear_model.LinearRegression()\n",
    "lm2.fit(trainX_2, trainY)\n",
    "\n",
    "trainPred = lm2.predict(trainX_2)\n",
    "testPred = lm2.predict(testX_2)"
   ]
  },
  {
   "cell_type": "code",
   "execution_count": 64,
   "metadata": {},
   "outputs": [],
   "source": [
    "# trainAcc = metrics.accuracy_score(trainY, trainPred)\n",
    "# testAcc = metrics.accuracy_score(testY, testPred)\n",
    "\n",
    "# print('Train acc:', trainAcc)\n",
    "# print('Test acc:', testAcc)"
   ]
  },
  {
   "cell_type": "code",
   "execution_count": 68,
   "metadata": {},
   "outputs": [
    {
     "name": "stdout",
     "output_type": "stream",
     "text": [
      "AuROC test: 0.7559568427924738\n"
     ]
    }
   ],
   "source": [
    "auroc = metrics.roc_auc_score(testY, testPred)\n",
    "print('AuROC test:', auroc)"
   ]
  },
  {
   "cell_type": "code",
   "execution_count": 71,
   "metadata": {},
   "outputs": [],
   "source": [
    "# nb = naive_bayes.GaussianNB()\n",
    "# rfe = feature_selection.RFE(nb, 50, step = 2)\n",
    "# rfe = rfe.fit(trainX, trainY)\n",
    "# np.sum(rfe.support_)"
   ]
  },
  {
   "cell_type": "code",
   "execution_count": null,
   "metadata": {},
   "outputs": [],
   "source": [
    "# trainX_2 = trainX[trainX.columns[rfe.support_]]\n",
    "# testX_2 = testX[testX.columns[rfe.support_]]\n",
    "# print(trainX_2.shape)\n",
    "# print(testX_2.shape)"
   ]
  },
  {
   "cell_type": "code",
   "execution_count": 76,
   "metadata": {},
   "outputs": [],
   "source": [
    "nb2 = naive_bayes.GaussianNB()\n",
    "nb2.fit(trainX_2, trainY)\n",
    "\n",
    "trainPred = nb2.predict(trainX_2)\n",
    "testPred = nb2.predict(testX_2)"
   ]
  },
  {
   "cell_type": "code",
   "execution_count": 74,
   "metadata": {},
   "outputs": [],
   "source": [
    "# trainAcc = metrics.accuracy_score(trainY, trainPred)\n",
    "# testAcc = metrics.accuracy_score(testY, testPred)\n",
    "\n",
    "# print('Train acc:', trainAcc)\n",
    "# print('Test acc:', testAcc)"
   ]
  },
  {
   "cell_type": "code",
   "execution_count": 77,
   "metadata": {},
   "outputs": [
    {
     "name": "stdout",
     "output_type": "stream",
     "text": [
      "AuROC test: 0.636980603315013\n"
     ]
    }
   ],
   "source": [
    "auroc = metrics.roc_auc_score(testY, testPred)\n",
    "print('AuROC test:', auroc)"
   ]
  }
 ],
 "metadata": {
  "kernelspec": {
   "display_name": "Python 3",
   "language": "python",
   "name": "python3"
  },
  "language_info": {
   "codemirror_mode": {
    "name": "ipython",
    "version": 3
   },
   "file_extension": ".py",
   "mimetype": "text/x-python",
   "name": "python",
   "nbconvert_exporter": "python",
   "pygments_lexer": "ipython3",
   "version": "3.8.2"
  }
 },
 "nbformat": 4,
 "nbformat_minor": 4
}
