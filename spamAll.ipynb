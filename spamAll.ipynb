{
 "cells": [
  {
   "cell_type": "code",
   "execution_count": 1,
   "metadata": {},
   "outputs": [],
   "source": [
    "import json\n",
    "import os\n",
    "import pickle\n",
    "import re\n",
    "import string"
   ]
  },
  {
   "cell_type": "code",
   "execution_count": 6,
   "metadata": {},
   "outputs": [
    {
     "data": {
      "text/plain": [
       "75419"
      ]
     },
     "execution_count": 6,
     "metadata": {},
     "output_type": "execute_result"
    }
   ],
   "source": [
    "emails = {}\n",
    "with open(os.getcwd() + '\\\\Data\\\\emailsText.pickle', 'rb') as pckl:\n",
    "    emails = pickle.load(pckl)\n",
    "pckl.close()\n",
    "len(emails)"
   ]
  },
  {
   "cell_type": "code",
   "execution_count": 8,
   "metadata": {},
   "outputs": [],
   "source": [
    "stoplist = []\n",
    "with open(os.getcwd() + '\\\\Data\\\\stoplist.txt') as sl:\n",
    "    sw = sl.readline()\n",
    "    \n",
    "    while sw:\n",
    "        stoplist.append(sw.strip())\n",
    "        sw = sl.readline()\n",
    "sl.close()\n",
    "# stoplist"
   ]
  },
  {
   "cell_type": "code",
   "execution_count": 9,
   "metadata": {},
   "outputs": [
    {
     "data": {
      "text/plain": [
       "{'label': 1,\n",
       " 'subject': 'Generic Cialis, branded quality@ ',\n",
       " 'text': 'Do you feel the pressure to perform and not rising to the occasion??\\nTry Viagra.....\\nyour anxiety will be a thing of the past and you will\\nbe back to your old self.\\n'}"
      ]
     },
     "execution_count": 9,
     "metadata": {},
     "output_type": "execute_result"
    }
   ],
   "source": [
    "emails['inmail.1']"
   ]
  },
  {
   "cell_type": "code",
   "execution_count": 10,
   "metadata": {},
   "outputs": [],
   "source": [
    "from nltk.stem import PorterStemmer"
   ]
  },
  {
   "cell_type": "code",
   "execution_count": 13,
   "metadata": {},
   "outputs": [],
   "source": [
    "def clean():\n",
    "    stemmer = PorterStemmer()\n",
    "    corpus = {}\n",
    "    count = 1\n",
    "    for email in emails:\n",
    "        text = re.sub(r'[^\\w\\s]', '', emails[email]['text'])\n",
    "        words = re.split('[^a-zA-Z]', text)\n",
    "        filtered = []\n",
    "        \n",
    "        for word in words:\n",
    "            word = stemmer.stem(word)\n",
    "            if word not in stoplist:\n",
    "                filtered.append(word)\n",
    "        \n",
    "        cleaned = ' '.join(filtered)\n",
    "        corpus[email] = cleaned\n",
    "        \n",
    "        if count % 1000 == 0:\n",
    "            print(count)\n",
    "            \n",
    "        count += 1\n",
    "        \n",
    "    return corpus"
   ]
  },
  {
   "cell_type": "code",
   "execution_count": 14,
   "metadata": {},
   "outputs": [
    {
     "name": "stdout",
     "output_type": "stream",
     "text": [
      "1000\n",
      "2000\n",
      "3000\n",
      "4000\n",
      "5000\n",
      "6000\n",
      "7000\n",
      "8000\n",
      "9000\n",
      "10000\n",
      "11000\n",
      "12000\n",
      "13000\n",
      "14000\n",
      "15000\n",
      "16000\n",
      "17000\n",
      "18000\n",
      "19000\n",
      "20000\n",
      "21000\n",
      "22000\n",
      "23000\n",
      "24000\n",
      "25000\n",
      "26000\n",
      "27000\n",
      "28000\n",
      "29000\n",
      "30000\n",
      "31000\n",
      "32000\n",
      "33000\n",
      "34000\n",
      "35000\n",
      "36000\n",
      "37000\n",
      "38000\n",
      "39000\n",
      "40000\n",
      "41000\n",
      "42000\n",
      "43000\n",
      "44000\n",
      "45000\n",
      "46000\n",
      "47000\n",
      "48000\n",
      "49000\n",
      "50000\n",
      "51000\n",
      "52000\n",
      "53000\n",
      "54000\n",
      "55000\n",
      "56000\n",
      "57000\n",
      "58000\n",
      "59000\n",
      "60000\n",
      "61000\n",
      "62000\n",
      "63000\n",
      "64000\n",
      "65000\n",
      "66000\n",
      "67000\n",
      "68000\n",
      "69000\n",
      "70000\n",
      "71000\n",
      "72000\n",
      "73000\n",
      "74000\n",
      "75000\n"
     ]
    },
    {
     "data": {
      "text/plain": [
       "75419"
      ]
     },
     "execution_count": 14,
     "metadata": {},
     "output_type": "execute_result"
    }
   ],
   "source": [
    "corpus = clean()\n",
    "len(corpus)"
   ]
  },
  {
   "cell_type": "code",
   "execution_count": 16,
   "metadata": {},
   "outputs": [
    {
     "name": "stdout",
     "output_type": "stream",
     "text": [
      "pckld\n"
     ]
    }
   ],
   "source": [
    "with open(os.getcwd() + '\\\\corpus.pickle', 'wb') as pckl:\n",
    "    pickle.dump(corpus, pckl)\n",
    "print('pckld')"
   ]
  },
  {
   "cell_type": "code",
   "execution_count": 42,
   "metadata": {},
   "outputs": [],
   "source": [
    "from sklearn.feature_extraction.text import CountVectorizer\n",
    "from sklearn.datasets import dump_svmlight_file, load_svmlight_file\n",
    "from sklearn.model_selection import train_test_split\n",
    "from sklearn.linear_model import LogisticRegression, LinearRegression\n",
    "from sklearn.tree import DecisionTreeClassifier\n",
    "from sklearn.naive_bayes import GaussianNB"
   ]
  },
  {
   "cell_type": "code",
   "execution_count": 30,
   "metadata": {},
   "outputs": [],
   "source": [
    "def selectFeatures():\n",
    "    contents = []\n",
    "    labels = []\n",
    "    \n",
    "    for email in corpus:\n",
    "        contents.append(corpus[email])\n",
    "        labels.append(emails[email]['label'])\n",
    "        \n",
    "    vectoriser = CountVectorizer(min_df = 0.02, max_df = 0.95)\n",
    "    X = vectoriser.fit_transform(contents)\n",
    "    features = vectoriser.get_feature_names()\n",
    "    \n",
    "    f = open(os.getcwd() + '\\\\unigrams', 'wb')\n",
    "    dump_svmlight_file(X, labels, f)\n",
    "    f.close()\n",
    "    \n",
    "    with open(os.getcwd()+'\\\\featureNames.txt', 'w') as f:\n",
    "        for i in range(0, len(features)):\n",
    "            f.write(json.dumps({i: features[i]}))\n",
    "    f.close()\n",
    "    print('done')"
   ]
  },
  {
   "cell_type": "code",
   "execution_count": 31,
   "metadata": {},
   "outputs": [
    {
     "name": "stdout",
     "output_type": "stream",
     "text": [
      "done\n"
     ]
    }
   ],
   "source": [
    "selectFeatures()"
   ]
  },
  {
   "cell_type": "code",
   "execution_count": 32,
   "metadata": {},
   "outputs": [],
   "source": [
    "from sklearn.metrics import mean_squared_error, roc_auc_score"
   ]
  },
  {
   "cell_type": "code",
   "execution_count": 43,
   "metadata": {},
   "outputs": [],
   "source": [
    "data = load_svmlight_file(os.getcwd() + '\\\\unigrams')\n",
    "X = data[0]\n",
    "y = data[1]\n",
    "trainX, testX, trainY, testY = train_test_split(X, y, test_size = 0.2)"
   ]
  },
  {
   "cell_type": "code",
   "execution_count": 44,
   "metadata": {},
   "outputs": [],
   "source": [
    "def train(opt = 1):\n",
    "    if opt == 1:\n",
    "        clf = LinearRegression()\n",
    "    elif opt == 2:\n",
    "        clf = DecisionTreeClassifier()\n",
    "    elif opt == 3:\n",
    "        clf = GaussianNB()\n",
    "    \n",
    "    clf.fit(trainX, trainY)\n",
    "    predY = clf.predict(testX)\n",
    "\n",
    "    print(roc_auc_score(testY, predY))"
   ]
  },
  {
   "cell_type": "code",
   "execution_count": 45,
   "metadata": {},
   "outputs": [
    {
     "name": "stdout",
     "output_type": "stream",
     "text": [
      "0.9881627927498703\n"
     ]
    }
   ],
   "source": [
    "train(1)  # linear regression"
   ]
  },
  {
   "cell_type": "code",
   "execution_count": 46,
   "metadata": {},
   "outputs": [
    {
     "name": "stdout",
     "output_type": "stream",
     "text": [
      "0.9739861388990896\n"
     ]
    }
   ],
   "source": [
    "train(2)  # DT"
   ]
  },
  {
   "cell_type": "code",
   "execution_count": 48,
   "metadata": {},
   "outputs": [],
   "source": [
    "# train(3)  # naive bayes"
   ]
  }
 ],
 "metadata": {
  "kernelspec": {
   "display_name": "Python 3",
   "language": "python",
   "name": "python3"
  },
  "language_info": {
   "codemirror_mode": {
    "name": "ipython",
    "version": 3
   },
   "file_extension": ".py",
   "mimetype": "text/x-python",
   "name": "python",
   "nbconvert_exporter": "python",
   "pygments_lexer": "ipython3",
   "version": "3.8.2"
  }
 },
 "nbformat": 4,
 "nbformat_minor": 4
}
